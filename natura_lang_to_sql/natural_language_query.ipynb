{
 "cells": [
  {
   "metadata": {
    "ExecuteTime": {
     "end_time": "2024-09-06T14:16:43.898914Z",
     "start_time": "2024-09-06T14:16:36.573842Z"
    }
   },
   "cell_type": "code",
   "source": [
    "from getpass import getpass\n",
    "import os\n",
    "\n",
    "os.environ['HUGGINGFACEHUB_API_TOKEN'] = getpass(\"Input hugging face API Token\")\n",
    "os.environ['COHERE_API_KEY'] = getpass(\"Input Cohere API Token\")"
   ],
   "id": "7292bb3f782a6371",
   "outputs": [],
   "execution_count": 6
  },
  {
   "metadata": {
    "ExecuteTime": {
     "end_time": "2024-09-06T14:24:48.822769Z",
     "start_time": "2024-09-06T14:24:47.042150Z"
    }
   },
   "cell_type": "code",
   "source": [
    "from sqlalchemy import create_engine,Table, MetaData, Column, String, Date, Integer, Float\n",
    "\n",
    "metadata = MetaData()\n",
    "db_engine = create_engine(\"sqlite:///employees.db\")\n",
    "\n",
    "employees_table = Table(\n",
    "    \"employees\", metadata,\n",
    "    Column(\"id\", Integer, primary_key=True, autoincrement=True),\n",
    "    Column(\"first_name\", String(50), nullable=False),\n",
    "    Column(\"last_name\", String(50), nullable=False),\n",
    "    Column(\"email\", String(100), unique=True, nullable=False),\n",
    "    Column(\"phone_number\", String(15)),\n",
    "    Column(\"hire_date\", Date, nullable=False),\n",
    "    Column(\"job_title\", String(50), nullable=False),\n",
    "    Column(\"salary\", Float, nullable=False),\n",
    "    Column(\"department_id\", Integer)\n",
    ")\n",
    "# Drop the table if it exists\n",
    "employees_table.drop(db_engine, checkfirst=True)\n",
    "metadata.create_all(db_engine)"
   ],
   "id": "a71665cc87c4a962",
   "outputs": [],
   "execution_count": 8
  },
  {
   "metadata": {
    "ExecuteTime": {
     "end_time": "2024-09-06T14:24:50.661601Z",
     "start_time": "2024-09-06T14:24:50.540563Z"
    }
   },
   "cell_type": "code",
   "source": [
    "from sqlalchemy import insert\n",
    "from datetime import datetime\n",
    "from random import randint\n",
    "\n",
    "employees = [\n",
    "    ['John', 'Doe', 'john.doe@example.com', '123-456-7890', datetime(2021, 5, 1), 'Software Engineer', 70000, 2],\n",
    "    ['Jane', 'Smith', 'jane.smith@example.com', '234-567-8901', datetime(2020, 8, 15), 'HR Manager', 80000, 1],\n",
    "    ['Jim', 'Beam', 'jim.beam@example.com', '345-678-9012', datetime(2019, 11, 3), 'Sales Representative', 50000, 3],\n",
    "    ['Jessica', 'Jones', 'jessica.jones@example.com', '456-789-0123', datetime(2018, 4, 23), 'Marketing Specialist', 60000, 4],\n",
    "    ['Michael', 'Brown', 'michael.brown@example.com', '567-890-1234', datetime(2022, 1, 9), 'DevOps Engineer', 75000, 2],\n",
    "    ['Emily', 'Davis', 'emily.davis@example.com', '678-901-2345', datetime(2021, 3, 11), 'Product Manager', 85000, 4],\n",
    "    ['Daniel', 'Wilson', 'daniel.wilson@example.com', '789-012-3456', datetime(2020, 10, 30), 'Data Scientist', 95000, 2],\n",
    "    ['Sophia', 'Taylor', 'sophia.taylor@example.com', '890-123-4567', datetime(2021, 6, 7), 'Recruiter', 55000, 1],\n",
    "    ['Lucas', 'Martinez', 'lucas.martinez@example.com', '901-234-5678', datetime(2019, 2, 18), 'Sales Manager', 70000, 3],\n",
    "    ['Olivia', 'Garcia', 'olivia.garcia@example.com', '012-345-6789', datetime(2023, 7, 20), 'Junior Developer', 50000, 2]\n",
    "]\n",
    "\n",
    "with db_engine.begin() as connection:\n",
    "    for emp in employees:\n",
    "        query = insert(employees_table).values(\n",
    "            id=randint(10000, 99999),\n",
    "            first_name=emp[0],\n",
    "            last_name=emp[1],\n",
    "            email=emp[2],\n",
    "            phone_number=emp[3],\n",
    "            hire_date=emp[4],\n",
    "            job_title=emp[5],\n",
    "            salary=emp[6],\n",
    "            department_id=emp[7]\n",
    "        )\n",
    "        connection.execute(query)\n",
    "print(\"Data inserted Successfully\")"
   ],
   "id": "4c5d87043a553b9b",
   "outputs": [
    {
     "name": "stdout",
     "output_type": "stream",
     "text": [
      "Data inserted Successfully\n"
     ]
    }
   ],
   "execution_count": 9
  },
  {
   "metadata": {
    "ExecuteTime": {
     "end_time": "2024-09-06T14:24:54.494555Z",
     "start_time": "2024-09-06T14:24:54.474081Z"
    }
   },
   "cell_type": "code",
   "source": [
    "from sqlalchemy import text\n",
    "\n",
    "with db_engine.begin() as connection:\n",
    "    result = connection.execute(text(\"select * from employees\")).fetchall()\n",
    "print(result)"
   ],
   "id": "3bdf99010537ddac",
   "outputs": [
    {
     "name": "stdout",
     "output_type": "stream",
     "text": [
      "[(11227, 'Emily', 'Davis', 'emily.davis@example.com', '678-901-2345', '2021-03-11', 'Product Manager', 85000.0, 4), (17114, 'Michael', 'Brown', 'michael.brown@example.com', '567-890-1234', '2022-01-09', 'DevOps Engineer', 75000.0, 2), (19166, 'John', 'Doe', 'john.doe@example.com', '123-456-7890', '2021-05-01', 'Software Engineer', 70000.0, 2), (26703, 'Jim', 'Beam', 'jim.beam@example.com', '345-678-9012', '2019-11-03', 'Sales Representative', 50000.0, 3), (29496, 'Jane', 'Smith', 'jane.smith@example.com', '234-567-8901', '2020-08-15', 'HR Manager', 80000.0, 1), (52239, 'Sophia', 'Taylor', 'sophia.taylor@example.com', '890-123-4567', '2021-06-07', 'Recruiter', 55000.0, 1), (73479, 'Daniel', 'Wilson', 'daniel.wilson@example.com', '789-012-3456', '2020-10-30', 'Data Scientist', 95000.0, 2), (85187, 'Jessica', 'Jones', 'jessica.jones@example.com', '456-789-0123', '2018-04-23', 'Marketing Specialist', 60000.0, 4), (88421, 'Olivia', 'Garcia', 'olivia.garcia@example.com', '012-345-6789', '2023-07-20', 'Junior Developer', 50000.0, 2), (89223, 'Lucas', 'Martinez', 'lucas.martinez@example.com', '901-234-5678', '2019-02-18', 'Sales Manager', 70000.0, 3)]\n"
     ]
    }
   ],
   "execution_count": 10
  },
  {
   "metadata": {
    "ExecuteTime": {
     "end_time": "2024-09-06T15:13:37.369912Z",
     "start_time": "2024-09-06T15:13:37.360046Z"
    }
   },
   "cell_type": "code",
   "source": [
    "from langchain_experimental.sql import SQLDatabaseChain\n",
    "from langgraph.graph import MessagesState\n",
    "from langchain_community.utilities import SQLDatabase\n",
    "from langchain_community.llms.cohere import Cohere\n",
    "\n",
    "def generate_query(state: MessagesState):\n",
    "    llm_cohere = Cohere(model = \"command-r-plus-08-2024\", max_tokens=100, temperature=1)\n",
    "    sql_chain = SQLDatabaseChain.from_llm(llm_cohere, db=SQLDatabase(db_engine),  return_sql=True, return_direct=True)\n",
    "    messages = state['messages']\n",
    "    response = sql_chain.invoke(messages)\n",
    "    return {\"messages\": [response['result']]}\n",
    "\n",
    "def clean_query(state: MessagesState):\n",
    "    messages = state['messages'][-1]\n",
    "    corrected_query = messages.content.replace(\"`\",\"\").replace(\"sql\",\"\")\n",
    "    return {\"messages\": [corrected_query]}\n",
    "\n",
    "def execute_query(state: MessagesState):\n",
    "    messages = state['messages'][-1]\n",
    "    sql = messages.content\n",
    "    with db_engine.begin() as connection:\n",
    "        answer = connection.execute(text(sql)).fetchall()\n",
    "    return {\"messages\": [str(answer)]}"
   ],
   "id": "ff79118a6779dc84",
   "outputs": [],
   "execution_count": 20
  },
  {
   "metadata": {
    "ExecuteTime": {
     "end_time": "2024-09-06T15:13:39.628929Z",
     "start_time": "2024-09-06T15:13:39.586426Z"
    }
   },
   "cell_type": "code",
   "source": [
    "from langgraph.graph import END, StateGraph, START\n",
    "\n",
    "workflow = StateGraph(MessagesState)\n",
    "\n",
    "workflow.add_node(\"Query_Generator\", generate_query)\n",
    "workflow.add_node(\"Query_Cleaner\", clean_query)\n",
    "workflow.add_node(\"Query_Executor\", execute_query)\n",
    "\n",
    "workflow.add_edge(START, \"Query_Generator\")\n",
    "workflow.add_edge(\"Query_Generator\", \"Query_Cleaner\")\n",
    "workflow.add_edge(\"Query_Cleaner\", \"Query_Executor\")\n",
    "workflow.add_edge(\"Query_Executor\", END)\n",
    "\n",
    "graph = workflow.compile()"
   ],
   "id": "1f44036d5f39dc88",
   "outputs": [],
   "execution_count": 21
  },
  {
   "metadata": {
    "ExecuteTime": {
     "end_time": "2024-09-06T14:45:17.298831Z",
     "start_time": "2024-09-06T14:45:17.108041Z"
    }
   },
   "cell_type": "code",
   "source": [
    "from IPython.display import Image, display\n",
    "\n",
    "try:\n",
    "    display(Image(graph.get_graph(xray=True).draw_mermaid_png()))\n",
    "except Exception:\n",
    "    # This requires some extra dependencies and is optional\n",
    "    pass"
   ],
   "id": "9320e7b2872bd631",
   "outputs": [
    {
     "data": {
      "image/jpeg": "[encoded data removed]",
      "text/plain": [
       "<IPython.core.display.Image object>"
      ]
     },
     "metadata": {},
     "output_type": "display_data"
    }
   ],
   "execution_count": 16
  },
  {
   "metadata": {
    "ExecuteTime": {
     "end_time": "2024-09-06T15:14:11.884679Z",
     "start_time": "2024-09-06T15:14:07.375193Z"
    }
   },
   "cell_type": "code",
   "source": [
    "inputs =  {\n",
    "             \"messages\": [\n",
    "                 {\"role\": \"human\", \"content\": \"What is the highest salary of all employees? Answer should be in single word or number\"}\n",
    "             ]\n",
    "         }\n",
    "for output in graph.stream(inputs):\n",
    "    # stream() yields dictionaries with output keyed by node name\n",
    "    for key, value in output.items():\n",
    "        print(f\"Output from node '{key}':\")\n",
    "        print(\"---\")\n",
    "        print(value)\n",
    "    print(\"\\n---\\n\")"
   ],
   "id": "9c4e10972140c774",
   "outputs": [
    {
     "name": "stdout",
     "output_type": "stream",
     "text": [
      "Output from node 'Query_Generator':\n",
      "---\n",
      "{'messages': ['```sql\\nSELECT salary FROM employees ORDER BY salary DESC LIMIT 1\\n```']}\n",
      "\n",
      "---\n",
      "\n",
      "Output from node 'Query_Cleaner':\n",
      "---\n",
      "{'messages': ['\\nSELECT salary FROM employees ORDER BY salary DESC LIMIT 1\\n']}\n",
      "\n",
      "---\n",
      "\n",
      "Output from node 'Query_Executor':\n",
      "---\n",
      "{'messages': ['[(95000.0,)]']}\n",
      "\n",
      "---\n",
      "\n"
     ]
    }
   ],
   "execution_count": 23
  },
  {
   "metadata": {},
   "cell_type": "code",
   "outputs": [],
   "execution_count": null,
   "source": [
    "inputs =  {\n",
    "             \"messages\": [\n",
    "                 {\"role\": \"human\", \"content\": \"What is the Average salary of all employees? Answer should be in single word or number\"}\n",
    "             ]\n",
    "         }\n",
    "for output in graph.stream(inputs):\n",
    "    # stream() yields dictionaries with output keyed by node name\n",
    "    for key, value in output.items():\n",
    "        print(f\"Output from node '{key}':\")\n",
    "        print(\"---\")\n",
    "        print(value)\n",
    "    print(\"\\n---\\n\")"
   ],
   "id": "e24eb609b7af9fc4"
  },
  {
   "metadata": {
    "ExecuteTime": {
     "end_time": "2024-09-06T15:15:08.880270Z",
     "start_time": "2024-09-06T15:15:03.495239Z"
    }
   },
   "cell_type": "code",
   "source": [
    "inputs =  {\n",
    "             \"messages\": [\n",
    "                 {\"role\": \"human\", \"content\": \"What is the department number of the highest paid employee and what is his/her name? Answer should be in single word or number\"}\n",
    "             ]\n",
    "         }\n",
    "for output in graph.stream(inputs):\n",
    "    # stream() yields dictionaries with output keyed by node name\n",
    "    for key, value in output.items():\n",
    "        print(f\"Output from node '{key}':\")\n",
    "        print(\"---\")\n",
    "        print(value)\n",
    "    print(\"\\n---\\n\")"
   ],
   "id": "69fe3637e904610b",
   "outputs": [
    {
     "name": "stdout",
     "output_type": "stream",
     "text": [
      "Output from node 'Query_Generator':\n",
      "---\n",
      "{'messages': ['```sql\\nSELECT department_id ,  first_name FROM employees WHERE salary  =  ( SELECT MAX(salary) FROM employees )\\n```']}\n",
      "\n",
      "---\n",
      "\n",
      "Output from node 'Query_Cleaner':\n",
      "---\n",
      "{'messages': ['\\nSELECT department_id ,  first_name FROM employees WHERE salary  =  ( SELECT MAX(salary) FROM employees )\\n']}\n",
      "\n",
      "---\n",
      "\n",
      "Output from node 'Query_Executor':\n",
      "---\n",
      "{'messages': [\"[(2, 'Daniel')]\"]}\n",
      "\n",
      "---\n",
      "\n"
     ]
    }
   ],
   "execution_count": 24
  },
  {
   "metadata": {
    "ExecuteTime": {
     "end_time": "2024-09-06T15:13:53.217782Z",
     "start_time": "2024-09-06T15:13:48.408003Z"
    }
   },
   "cell_type": "code",
   "source": [
    "inputs =  {\n",
    "             \"messages\": [\n",
    "                 {\"role\": \"human\", \"content\": \"Provide the average salary of each department_id. Answer should be in single word or number\"}\n",
    "             ]\n",
    "         }\n",
    "for output in graph.stream(inputs):\n",
    "    # stream() yields dictionaries with output keyed by node name\n",
    "    for key, value in output.items():\n",
    "        print(f\"Output from node '{key}':\")\n",
    "        print(\"---\")\n",
    "        print(value)\n",
    "    print(\"\\n---\\n\")"
   ],
   "id": "c391548da015eea1",
   "outputs": [
    {
     "name": "stdout",
     "output_type": "stream",
     "text": [
      "Output from node 'Query_Generator':\n",
      "---\n",
      "{'messages': ['```sql\\nSELECT department_id, AVG(salary) FROM employees GROUP BY department_id\\n```']}\n",
      "\n",
      "---\n",
      "\n",
      "Output from node 'Query_Cleaner':\n",
      "---\n",
      "{'messages': ['\\nSELECT department_id, AVG(salary) FROM employees GROUP BY department_id\\n']}\n",
      "\n",
      "---\n",
      "\n",
      "Output from node 'Query_Executor':\n",
      "---\n",
      "{'messages': ['[(1, 67500.0), (2, 72500.0), (3, 60000.0), (4, 72500.0)]']}\n",
      "\n",
      "---\n",
      "\n"
     ]
    }
   ],
   "execution_count": 22
  },
  {
   "metadata": {
    "ExecuteTime": {
     "end_time": "2024-09-06T15:22:29.943025Z",
     "start_time": "2024-09-06T15:22:24.421708Z"
    }
   },
   "cell_type": "code",
   "source": [
    "inputs =  {\n",
    "             \"messages\": [\n",
    "                 {\"role\": \"human\", \"content\": \"Provide name, email and salary of employees joined before 2021. first Name and last name should be concatinated with space and in uppercase\"}\n",
    "             ]\n",
    "         }\n",
    "for output in graph.stream(inputs):\n",
    "    # stream() yields dictionaries with output keyed by node name\n",
    "    for key, value in output.items():\n",
    "        print(f\"Output from node '{key}':\")\n",
    "        print(\"---\")\n",
    "        print(value)\n",
    "    print(\"\\n---\\n\")"
   ],
   "id": "a21eecfece102d8a",
   "outputs": [
    {
     "name": "stdout",
     "output_type": "stream",
     "text": [
      "Output from node 'Query_Generator':\n",
      "---\n",
      "{'messages': ['```sql\\nSELECT\\n    upper(`first_name` || \\' \\' || `last_name`) AS \"name\",\\n    `email`,\\n    salary\\nFROM employees\\nWHERE strftime(\\'%Y\\', hire_date) < \\'2021\\'\\n```']}\n",
      "\n",
      "---\n",
      "\n",
      "Output from node 'Query_Cleaner':\n",
      "---\n",
      "{'messages': ['\\nSELECT\\n    upper(first_name || \\' \\' || last_name) AS \"name\",\\n    email,\\n    salary\\nFROM employees\\nWHERE strftime(\\'%Y\\', hire_date) < \\'2021\\'\\n']}\n",
      "\n",
      "---\n",
      "\n",
      "Output from node 'Query_Executor':\n",
      "---\n",
      "{'messages': [\"[('JIM BEAM', 'jim.beam@example.com', 50000.0), ('JANE SMITH', 'jane.smith@example.com', 80000.0), ('DANIEL WILSON', 'daniel.wilson@example.com', 95000.0), ('JESSICA JONES', 'jessica.jones@example.com', 60000.0), ('LUCAS MARTINEZ', 'lucas.martinez@example.com', 70000.0)]\"]}\n",
      "\n",
      "---\n",
      "\n"
     ]
    }
   ],
   "execution_count": 25
  }
 ],
 "metadata": {
  "kernelspec": {
   "display_name": "Python 3",
   "language": "python",
   "name": "python3"
  },
  "language_info": {
   "codemirror_mode": {
    "name": "ipython",
    "version": 2
   },
   "file_extension": ".py",
   "mimetype": "text/x-python",
   "name": "python",
   "nbconvert_exporter": "python",
   "pygments_lexer": "ipython2",
   "version": "2.7.6"
  }
 },
 "nbformat": 4,
 "nbformat_minor": 5
}
