{
 "cells": [
  {
   "metadata": {
    "ExecuteTime": {
     "end_time": "2024-09-05T14:56:53.241304Z",
     "start_time": "2024-09-05T14:56:53.237075Z"
    }
   },
   "cell_type": "code",
   "source": [
    "def node1(input1):\n",
    "    return f\"Hello from: {input1}\\n\"\n",
    "\n",
    "def node2(input2):\n",
    "    return f\"Output of Node-1: {input2} and Hello from Node-2\\n\""
   ],
   "id": "f173ea907a64d34b",
   "outputs": [],
   "execution_count": 7
  },
  {
   "metadata": {
    "ExecuteTime": {
     "end_time": "2024-09-05T14:56:53.267657Z",
     "start_time": "2024-09-05T14:56:53.261159Z"
    }
   },
   "cell_type": "code",
   "source": [
    "from langgraph.prebuilt import ToolNode\n",
    "from langgraph.graph import END, START, Graph\n",
    "\n",
    "workflow = Graph()\n",
    "\n",
    "workflow.add_node(\"Node-1\", node1)\n",
    "workflow.add_node(\"Node-2\", node2)\n",
    "\n",
    "workflow.add_edge(START, \"Node-1\")\n",
    "workflow.add_edge(\"Node-1\", \"Node-2\")\n",
    "workflow.add_edge(\"Node-2\", END)\n",
    "\n",
    "basic_graph = workflow.compile()"
   ],
   "id": "32a3e9b7042c8a6d",
   "outputs": [],
   "execution_count": 8
  },
  {
   "metadata": {
    "ExecuteTime": {
     "end_time": "2024-09-05T14:56:55.049209Z",
     "start_time": "2024-09-05T14:56:53.371747Z"
    }
   },
   "cell_type": "code",
   "source": [
    "from IPython.display import Image, display\n",
    "\n",
    "try:\n",
    "    display(Image(basic_graph.get_graph(xray=True).draw_mermaid_png()))\n",
    "except Exception:\n",
    "    pass"
   ],
   "id": "194eed03dbfbed3e",
   "outputs": [
    {
     "data": {
      "image/jpeg": "[encoded data removed]",
      "text/plain": [
       "<IPython.core.display.Image object>"
      ]
     },
     "metadata": {},
     "output_type": "display_data"
    }
   ],
   "execution_count": 9
  },
  {
   "metadata": {
    "ExecuteTime": {
     "end_time": "2024-09-05T14:56:55.118020Z",
     "start_time": "2024-09-05T14:56:55.079859Z"
    }
   },
   "cell_type": "code",
   "source": [
    "for output in basic_graph.stream(\"Node-1\"):\n",
    "    # stream() yields dictionaries with output keyed by node name\n",
    "    for key, value in output.items():\n",
    "        print(f\"'{key}':\")\n",
    "        print(\"---\")\n",
    "        print(value)\n",
    "    print(\"\\n~~~~~~~~\\n\")"
   ],
   "id": "c8038d7787f5658a",
   "outputs": [
    {
     "name": "stdout",
     "output_type": "stream",
     "text": [
      "'Node-1':\n",
      "---\n",
      "Hello from: Node-1\n",
      "\n",
      "\n",
      "~~~~~~~~\n",
      "\n",
      "'Node-2':\n",
      "---\n",
      "Output of Node-1: Hello from: Node-1\n",
      " and Hello from Node-2\n",
      "\n",
      "\n",
      "~~~~~~~~\n",
      "\n"
     ]
    }
   ],
   "execution_count": 10
  }
 ],
 "metadata": {
  "kernelspec": {
   "display_name": "Python 3",
   "language": "python",
   "name": "python3"
  },
  "language_info": {
   "codemirror_mode": {
    "name": "ipython",
    "version": 2
   },
   "file_extension": ".py",
   "mimetype": "text/x-python",
   "name": "python",
   "nbconvert_exporter": "python",
   "pygments_lexer": "ipython2",
   "version": "2.7.6"
  }
 },
 "nbformat": 4,
 "nbformat_minor": 5
}
