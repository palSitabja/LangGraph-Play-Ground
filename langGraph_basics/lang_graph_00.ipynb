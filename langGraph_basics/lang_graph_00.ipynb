{
 "cells": [
  {
   "metadata": {
    "jupyter": {
     "is_executing": true
    }
   },
   "cell_type": "code",
   "source": [
    "def node1(input1):\n",
    "    return f\"Hello from: {input1}\\n\"\n",
    "\n",
    "def node2(input2):\n",
    "    return f\"Output of Node-1: {input2} and Hello from Node-2\\n\""
   ],
   "id": "f173ea907a64d34b",
   "outputs": [],
   "execution_count": null
  },
  {
   "metadata": {
    "ExecuteTime": {
     "end_time": "2024-09-01T19:26:45.523823Z",
     "start_time": "2024-09-01T19:26:45.515978Z"
    }
   },
   "cell_type": "code",
   "source": [
    "from langchain_core.tools import tool\n",
    "\n",
    "def routing_logic(input3):\n",
    "    # If the input is more than 10 size, then we route to the \"tools\" node\n",
    "    if len(input3)>10:\n",
    "        return \"tool\"\n",
    "    # Otherwise, we stop (reply to the user)\n",
    "    else:\n",
    "        return END\n",
    "\n",
    "#@tool()\n",
    "def some_tool():\n",
    "    #\"\"\"Call to slice the string\"\"\"\n",
    "    #This tool slices the input to size 10\n",
    "    return 'tool_input[:10]'\n",
    "\n",
    "#tools = [some_tool]\n"
   ],
   "id": "be6cd3ae2b56a7cc",
   "outputs": [],
   "execution_count": 72
  },
  {
   "metadata": {
    "ExecuteTime": {
     "end_time": "2024-09-01T19:31:59.231783Z",
     "start_time": "2024-09-01T19:31:59.218952Z"
    }
   },
   "cell_type": "code",
   "source": [
    "from langgraph.prebuilt import ToolNode\n",
    "from langgraph.graph import END, START, Graph\n",
    "\n",
    "workflow = Graph()\n",
    "\n",
    "workflow.add_node(\"Node-1\", node1)\n",
    "workflow.add_node(\"Node-2\", node2)\n",
    "\n",
    "#tool_node = ToolNode(tools)\n",
    "workflow.add_node(\"tool\", some_tool)\n",
    "\n",
    "workflow.add_edge(START, \"Node-1\")\n",
    "workflow.add_edge(\"Node-1\", \"Node-2\")\n",
    "\n",
    "\n",
    "# We now add a conditional edge\n",
    "workflow.add_conditional_edges(\n",
    "    # First, we define the start node. We use `agent`.\n",
    "    # This means these are the edges taken after the `agent` node is called.\n",
    "    \"Node-2\",\n",
    "    # Next, we pass in the function that will determine which node is called next.\n",
    "    routing_logic\n",
    ")\n",
    "workflow.add_edge(\"tool\", END)\n",
    "\n",
    "basic_graph = workflow.compile()"
   ],
   "id": "32a3e9b7042c8a6d",
   "outputs": [],
   "execution_count": 80
  },
  {
   "metadata": {
    "ExecuteTime": {
     "end_time": "2024-09-01T19:32:03.201015Z",
     "start_time": "2024-09-01T19:32:02.094581Z"
    }
   },
   "cell_type": "code",
   "source": [
    "from IPython.display import Image, display\n",
    "\n",
    "try:\n",
    "    display(Image(basic_graph.get_graph(xray=True).draw_mermaid_png()))\n",
    "except Exception:\n",
    "    pass"
   ],
   "id": "194eed03dbfbed3e",
   "outputs": [
    {
     "data": {
      "image/jpeg": "[encoded data removed]",
      "text/plain": [
       "<IPython.core.display.Image object>"
      ]
     },
     "metadata": {},
     "output_type": "display_data"
    }
   ],
   "execution_count": 81
  },
  {
   "metadata": {
    "ExecuteTime": {
     "end_time": "2024-09-01T18:08:03.813297Z",
     "start_time": "2024-09-01T18:08:03.778285Z"
    }
   },
   "cell_type": "code",
   "source": [
    "for output in basic_graph.stream(\"Node-1\"):\n",
    "    # stream() yields dictionaries with output keyed by node name\n",
    "    for key, value in output.items():\n",
    "        print(f\"'{key}':\")\n",
    "        print(\"---\")\n",
    "        print(value)\n",
    "    print(\"\\n~~~~~~~~\\n\")"
   ],
   "id": "c8038d7787f5658a",
   "outputs": [
    {
     "name": "stdout",
     "output_type": "stream",
     "text": [
      "'Node-1':\n",
      "---\n",
      "Hello from: Node-1\n",
      "\n",
      "\n",
      "~~~~~~~~\n",
      "\n",
      "'Node-2':\n",
      "---\n",
      "Output of Node-1: Hello from: Node-1\n",
      " and Hello from Node-2\n",
      "\n",
      "\n",
      "~~~~~~~~\n",
      "\n"
     ]
    }
   ],
   "execution_count": 34
  },
  {
   "metadata": {},
   "cell_type": "code",
   "outputs": [],
   "execution_count": null,
   "source": [
    "import operator\n",
    "from langchain_core.messages import BaseMessage\n",
    "from typing import TypedDict, Annotated, Sequence\n",
    "\n",
    "class State(TypedDict):\n",
    "    messages: Annotated[Sequence[BaseMessage], operator.add]"
   ],
   "id": "57b5f72c2dec3a25"
  }
 ],
 "metadata": {
  "kernelspec": {
   "display_name": "Python 3",
   "language": "python",
   "name": "python3"
  },
  "language_info": {
   "codemirror_mode": {
    "name": "ipython",
    "version": 2
   },
   "file_extension": ".py",
   "mimetype": "text/x-python",
   "name": "python",
   "nbconvert_exporter": "python",
   "pygments_lexer": "ipython2",
   "version": "2.7.6"
  }
 },
 "nbformat": 4,
 "nbformat_minor": 5
}
