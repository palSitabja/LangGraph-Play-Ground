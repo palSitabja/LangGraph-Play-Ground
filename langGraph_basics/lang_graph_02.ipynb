{
 "cells": [
  {
   "metadata": {
    "ExecuteTime": {
     "end_time": "2024-09-05T15:00:24.505392Z",
     "start_time": "2024-09-05T15:00:24.500452Z"
    }
   },
   "cell_type": "code",
   "source": [
    "from langgraph.graph import MessagesState, StateGraph\n",
    "\n",
    "def node1(state: MessagesState):\n",
    "    input1 = state['messages'][0].content\n",
    "    response = str(input1) + \", From Node-1: Hello, Human\"\n",
    "    return {\"messages\": [response]}\n",
    "\n",
    "def node2(state: MessagesState):\n",
    "    input2 = state['messages'][-1].content\n",
    "    response =  str(input2) + \" From Node-2, Hello, Human and Node-1\"\n",
    "    return {\"messages\": [response]}"
   ],
   "id": "f173ea907a64d34b",
   "outputs": [],
   "execution_count": 9
  },
  {
   "metadata": {
    "ExecuteTime": {
     "end_time": "2024-09-05T15:00:24.624767Z",
     "start_time": "2024-09-05T15:00:24.546009Z"
    }
   },
   "cell_type": "code",
   "source": [
    "def routing_logic(state: MessagesState):\n",
    "    input3 = state['messages'][-1].content\n",
    "    # If the input is more than 10 size, then we route to the \"tool\" node\n",
    "    if len(input3)>80:\n",
    "        return \"tool\"\n",
    "    # Otherwise, we stop (reply to the user)\n",
    "    return \"__end__\"\n",
    "\n",
    "#This tool make the input upper case\n",
    "def some_tool(state: MessagesState):\n",
    "    tool_input = state['messages'][-1].content\n",
    "    print(tool_input)\n",
    "    response = tool_input.upper()\n",
    "    return {\"messages\": [response]}"
   ],
   "id": "be6cd3ae2b56a7cc",
   "outputs": [],
   "execution_count": 10
  },
  {
   "metadata": {
    "ExecuteTime": {
     "end_time": "2024-09-05T15:00:24.787349Z",
     "start_time": "2024-09-05T15:00:24.750206Z"
    }
   },
   "cell_type": "code",
   "source": [
    "from langgraph.graph import END, START\n",
    "\n",
    "workflow = StateGraph(MessagesState)\n",
    "\n",
    "workflow.add_node(\"Node-1\", node1)\n",
    "workflow.add_node(\"Node-2\", node2)\n",
    "\n",
    "# #tool_node = ToolNode(tools)\n",
    "workflow.add_node(\"tool\", some_tool)\n",
    "\n",
    "workflow.add_edge(START, \"Node-1\")\n",
    "workflow.add_edge(\"Node-1\", \"Node-2\")\n",
    "\n",
    "# # We now add a conditional edge\n",
    "workflow.add_conditional_edges(\n",
    "    # First, we define the start node. We use `Node-2`.\n",
    "    source=\"Node-2\",\n",
    "    # Next, we pass in the router function that will determine next Node.\n",
    "    path = routing_logic,\n",
    "    # This means these are the edges taken after the `Node-2` node is called.\n",
    "    path_map={\n",
    "        \"tool\": \"tool\",\n",
    "        \"__end__\": \"__end__\"\n",
    "    }\n",
    ")\n",
    "workflow.add_edge(\"tool\", END)\n",
    "\n",
    "graph_with_state = workflow.compile()"
   ],
   "id": "32a3e9b7042c8a6d",
   "outputs": [],
   "execution_count": 11
  },
  {
   "metadata": {
    "ExecuteTime": {
     "end_time": "2024-09-05T15:00:26.638016Z",
     "start_time": "2024-09-05T15:00:24.831244Z"
    }
   },
   "cell_type": "code",
   "source": [
    "from IPython.display import Image, display\n",
    "\n",
    "try:\n",
    "    display(Image(graph_with_state.get_graph(xray=True).draw_mermaid_png()))\n",
    "except Exception:\n",
    "    pass"
   ],
   "id": "194eed03dbfbed3e",
   "outputs": [
    {
     "data": {
      "image/jpeg": "[encoded data removed]",
      "text/plain": [
       "<IPython.core.display.Image object>"
      ]
     },
     "metadata": {},
     "output_type": "display_data"
    }
   ],
   "execution_count": 12
  },
  {
   "metadata": {
    "ExecuteTime": {
     "end_time": "2024-09-05T15:00:26.688762Z",
     "start_time": "2024-09-05T15:00:26.665433Z"
    }
   },
   "cell_type": "code",
   "source": [
    "inputs =  {\n",
    "             \"messages\": [\n",
    "                 {\"role\": \"human\", \"content\": \"Hi I am Human, I am from planet Earth\"}\n",
    "             ]\n",
    "         }\n",
    "\n",
    "for output in graph_with_state.stream(inputs):\n",
    "    # stream() yields dictionaries with output keyed by node name\n",
    "    for key, value in output.items():\n",
    "        print(f\"'{key}':\")\n",
    "        print(\"---\")\n",
    "        print(value)\n",
    "    print(\"\\n~~~~~~~~\\n\")"
   ],
   "id": "c8038d7787f5658a",
   "outputs": [
    {
     "name": "stdout",
     "output_type": "stream",
     "text": [
      "'Node-1':\n",
      "---\n",
      "{'messages': ['Hi I am Human, I am from planet Earth, From Node-1: Hello, Human']}\n",
      "\n",
      "~~~~~~~~\n",
      "\n",
      "'Node-2':\n",
      "---\n",
      "{'messages': ['Hi I am Human, I am from planet Earth, From Node-1: Hello, Human From Node-2, Hello, Human and Node-1']}\n",
      "\n",
      "~~~~~~~~\n",
      "\n",
      "Hi I am Human, I am from planet Earth, From Node-1: Hello, Human From Node-2, Hello, Human and Node-1\n",
      "'tool':\n",
      "---\n",
      "{'messages': ['HI I AM HUMAN, I AM FROM PLANET EARTH, FROM NODE-1: HELLO, HUMAN FROM NODE-2, HELLO, HUMAN AND NODE-1']}\n",
      "\n",
      "~~~~~~~~\n",
      "\n"
     ]
    }
   ],
   "execution_count": 13
  },
  {
   "metadata": {
    "ExecuteTime": {
     "end_time": "2024-09-05T15:00:26.753567Z",
     "start_time": "2024-09-05T15:00:26.723406Z"
    }
   },
   "cell_type": "code",
   "source": [
    "from langchain_core.messages import HumanMessage\n",
    "inputs =  {\n",
    "             \"messages\": [HumanMessage(content=\"Hi\")]\n",
    "         }\n",
    "\n",
    "for output in graph_with_state.stream(inputs):\n",
    "    # stream() yields dictionaries with output keyed by node name\n",
    "    for key, value in output.items():\n",
    "        print(f\"'{key}':\")\n",
    "        print(\"---\")\n",
    "        print(value)\n",
    "    print(\"\\n~~~~~~~~\\n\")"
   ],
   "id": "6dd316857fb3aaf",
   "outputs": [
    {
     "name": "stdout",
     "output_type": "stream",
     "text": [
      "'Node-1':\n",
      "---\n",
      "{'messages': ['Hi, From Node-1: Hello, Human']}\n",
      "\n",
      "~~~~~~~~\n",
      "\n",
      "'Node-2':\n",
      "---\n",
      "{'messages': ['Hi, From Node-1: Hello, Human From Node-2, Hello, Human and Node-1']}\n",
      "\n",
      "~~~~~~~~\n",
      "\n"
     ]
    }
   ],
   "execution_count": 14
  }
 ],
 "metadata": {
  "kernelspec": {
   "display_name": "Python 3",
   "language": "python",
   "name": "python3"
  },
  "language_info": {
   "codemirror_mode": {
    "name": "ipython",
    "version": 2
   },
   "file_extension": ".py",
   "mimetype": "text/x-python",
   "name": "python",
   "nbconvert_exporter": "python",
   "pygments_lexer": "ipython2",
   "version": "2.7.6"
  }
 },
 "nbformat": 4,
 "nbformat_minor": 5
}
